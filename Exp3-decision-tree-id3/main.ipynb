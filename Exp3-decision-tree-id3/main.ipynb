{
 "cells": [
  {
   "cell_type": "markdown",
   "metadata": {},
   "source": [
    "Decision Tree ID3 Algorithm"
   ]
  },
  {
   "cell_type": "code",
   "execution_count": 2,
   "metadata": {},
   "outputs": [],
   "source": [
    "import numpy as np\n",
    "import pandas as pd\n",
    "from id3 import ID3"
   ]
  },
  {
   "cell_type": "code",
   "execution_count": 3,
   "metadata": {},
   "outputs": [],
   "source": [
    "df = pd.read_csv(\"play_tennis.csv\")\n",
    "X = np.array(df.drop([\"day\",\"play\"], axis=\"columns\"))\n",
    "y = np.array(df[\"play\"])\n",
    "feature_names = df.columns.drop([\"day\", \"play\"])\n",
    "\n",
    "X_train = X[:10]\n",
    "X_test = X[10:14]\n",
    "y_train = y[:10]\n",
    "y_test = y[10:14]\n"
   ]
  },
  {
   "cell_type": "code",
   "execution_count": 4,
   "metadata": {},
   "outputs": [
    {
     "name": "stdout",
     "output_type": "stream",
     "text": [
      "['No', 'Yes', 'Yes', 'No'] ['Yes' 'Yes' 'Yes' 'No']\n"
     ]
    }
   ],
   "source": [
    "mymodel = ID3()\n",
    "mymodel.fit(X_train, y_train, feature_names)\n",
    "\n",
    "y_pred = mymodel.predict(X_test)\n",
    "print(y_pred, y_test)"
   ]
  },
  {
   "cell_type": "code",
   "execution_count": 7,
   "metadata": {},
   "outputs": [
    {
     "name": "stdout",
     "output_type": "stream",
     "text": [
      "              precision    recall  f1-score   support\n",
      "\n",
      "          No       0.50      1.00      0.67         1\n",
      "         Yes       1.00      0.67      0.80         3\n",
      "\n",
      "    accuracy                           0.75         4\n",
      "   macro avg       0.75      0.83      0.73         4\n",
      "weighted avg       0.88      0.75      0.77         4\n",
      "\n"
     ]
    }
   ],
   "source": [
    "from sklearn.metrics import classification_report\n",
    "print(classification_report(y_test, y_pred))"
   ]
  },
  {
   "cell_type": "code",
   "execution_count": 6,
   "metadata": {},
   "outputs": [
    {
     "name": "stdout",
     "output_type": "stream",
     "text": [
      "-------------------- Decision tree -----------------------------\n",
      "(outlook=?)\n",
      "  |-- Overcast -- class:Yes\n",
      "  |-- Rain -- (wind=?)\n",
      "  |             |-- Strong -- class:No\n",
      "  |             |-- Weak -- class:Yes\n",
      "  |-- Sunny -- (temp=?)\n",
      "  |              |-- Mild -- class:No\n",
      "  |              |-- Cool -- class:Yes\n",
      "  |              |-- Hot -- class:No\n",
      "----------------------------------------------------------------\n"
     ]
    }
   ],
   "source": [
    "mymodel.print_dt()"
   ]
  },
  {
   "cell_type": "code",
   "execution_count": null,
   "metadata": {},
   "outputs": [],
   "source": []
  }
 ],
 "metadata": {
  "kernelspec": {
   "display_name": "Python 3.9.6 64-bit",
   "language": "python",
   "name": "python3"
  },
  "language_info": {
   "codemirror_mode": {
    "name": "ipython",
    "version": 3
   },
   "file_extension": ".py",
   "mimetype": "text/x-python",
   "name": "python",
   "nbconvert_exporter": "python",
   "pygments_lexer": "ipython3",
   "version": "3.9.6"
  },
  "orig_nbformat": 4,
  "vscode": {
   "interpreter": {
    "hash": "be071fa3bb3c5273d3ad3c0c72285287e0b9b1ce4765e69a809d308e6cdbe2b2"
   }
  }
 },
 "nbformat": 4,
 "nbformat_minor": 2
}
