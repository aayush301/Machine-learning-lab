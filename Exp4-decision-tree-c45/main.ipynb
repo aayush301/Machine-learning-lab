{
 "cells": [
  {
   "cell_type": "markdown",
   "metadata": {},
   "source": [
    "Decision Tree C4.5 Algorithm"
   ]
  },
  {
   "cell_type": "code",
   "execution_count": 1,
   "metadata": {},
   "outputs": [],
   "source": [
    "from c45 import C45\n",
    "import pandas as pd\n",
    "import numpy as np"
   ]
  },
  {
   "cell_type": "code",
   "execution_count": 2,
   "metadata": {},
   "outputs": [],
   "source": [
    "classes = []\n",
    "attrValues = {}\n",
    "\n",
    "with open(\"./data/iris_names.txt\", \"r\") as file:\n",
    "    classes = file.readline()\n",
    "    classes = [x.strip() for x in classes.split(\",\")]\n",
    "    \n",
    "    for line in file:\n",
    "        [attribute, values] = [x.strip() for x in line.split(\":\")]\n",
    "        values = [x.strip() for x in values.split(\",\")]\n",
    "        attrValues[attribute] = values\n",
    "        \n",
    "df = pd.read_csv(\"./data/iris_data.csv\")\n",
    "X = np.array(df.iloc[:,0:-1])\n",
    "y = np.array(df.iloc[:,-1])"
   ]
  },
  {
   "cell_type": "code",
   "execution_count": 3,
   "metadata": {},
   "outputs": [],
   "source": [
    "from sklearn.model_selection import train_test_split\n",
    "X_train, X_test, y_train, y_test = train_test_split(X, y, test_size=0.3)"
   ]
  },
  {
   "cell_type": "code",
   "execution_count": 4,
   "metadata": {},
   "outputs": [],
   "source": [
    "mymodel = C45()\n",
    "mymodel.fit(X_train, y_train, classes, attrValues)"
   ]
  },
  {
   "cell_type": "code",
   "execution_count": 5,
   "metadata": {},
   "outputs": [
    {
     "name": "stdout",
     "output_type": "stream",
     "text": [
      "petal width <= 0.75 : Iris-setosa\n",
      "petal width > 0.75 : \n",
      "\tpetal length <= 4.75 : Iris-versicolor\n",
      "\tpetal length > 4.75 : \n",
      "\t\tsepal length <= 7.0 : \n",
      "\t\t\tsepal width <= 3.25 : Iris-virginica\n",
      "\t\t\tsepal width > 3.25 : Iris-virginica\n",
      "\t\tsepal length > 7.0 : Iris-virginica\n"
     ]
    }
   ],
   "source": [
    "mymodel.printTree()"
   ]
  },
  {
   "cell_type": "code",
   "execution_count": 6,
   "metadata": {},
   "outputs": [],
   "source": [
    "y_pred = mymodel.predict(X_test)"
   ]
  },
  {
   "cell_type": "code",
   "execution_count": 7,
   "metadata": {},
   "outputs": [
    {
     "name": "stdout",
     "output_type": "stream",
     "text": [
      "                 precision    recall  f1-score   support\n",
      "\n",
      "    Iris-setosa       1.00      1.00      1.00        16\n",
      "Iris-versicolor       0.93      0.93      0.93        15\n",
      " Iris-virginica       0.93      0.93      0.93        14\n",
      "\n",
      "       accuracy                           0.96        45\n",
      "      macro avg       0.95      0.95      0.95        45\n",
      "   weighted avg       0.96      0.96      0.96        45\n",
      "\n"
     ]
    }
   ],
   "source": [
    "from sklearn.metrics import classification_report\n",
    "print(classification_report(y_test, y_pred))"
   ]
  },
  {
   "cell_type": "code",
   "execution_count": null,
   "metadata": {},
   "outputs": [],
   "source": []
  }
 ],
 "metadata": {
  "kernelspec": {
   "display_name": "Python 3.9.6 64-bit",
   "language": "python",
   "name": "python3"
  },
  "language_info": {
   "codemirror_mode": {
    "name": "ipython",
    "version": 3
   },
   "file_extension": ".py",
   "mimetype": "text/x-python",
   "name": "python",
   "nbconvert_exporter": "python",
   "pygments_lexer": "ipython3",
   "version": "3.9.6"
  },
  "orig_nbformat": 4,
  "vscode": {
   "interpreter": {
    "hash": "be071fa3bb3c5273d3ad3c0c72285287e0b9b1ce4765e69a809d308e6cdbe2b2"
   }
  }
 },
 "nbformat": 4,
 "nbformat_minor": 2
}
