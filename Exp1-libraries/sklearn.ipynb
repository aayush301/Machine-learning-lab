{
 "cells": [
  {
   "cell_type": "markdown",
   "metadata": {},
   "source": [
    "### Data Preprocessing"
   ]
  },
  {
   "cell_type": "code",
   "execution_count": 149,
   "metadata": {},
   "outputs": [],
   "source": [
    "import numpy as np"
   ]
  },
  {
   "cell_type": "code",
   "execution_count": 150,
   "metadata": {},
   "outputs": [
    {
     "data": {
      "text/plain": [
       "array([[0, 0, 1, 1],\n",
       "       [0, 0, 0, 0]])"
      ]
     },
     "execution_count": 150,
     "metadata": {},
     "output_type": "execute_result"
    }
   ],
   "source": [
    "# Binarization\n",
    "from sklearn.preprocessing import Binarizer\n",
    "data = np.array([[1,2,3,4],[-3,-2,-1,0]])\n",
    "Binarizer(threshold=2).transform(data)"
   ]
  },
  {
   "cell_type": "code",
   "execution_count": 151,
   "metadata": {},
   "outputs": [
    {
     "name": "stdout",
     "output_type": "stream",
     "text": [
      "3.1916492203966946\n",
      "2.8976820942716584e-16\n"
     ]
    }
   ],
   "source": [
    "# Mean removal\n",
    "from sklearn.preprocessing import scale\n",
    "data = np.random.normal(3,size=100)\n",
    "print(data.mean())\n",
    "data_scaled = scale(data)\n",
    "print(data_scaled.mean())"
   ]
  },
  {
   "cell_type": "code",
   "execution_count": 152,
   "metadata": {},
   "outputs": [
    {
     "name": "stdout",
     "output_type": "stream",
     "text": [
      "2.8812252893743016\n",
      "5.495553579943572\n",
      "2.8812252893743016\n"
     ]
    }
   ],
   "source": [
    "# Scaling\n",
    "from sklearn.preprocessing import MinMaxScaler\n",
    "\n",
    "data = np.random.normal(3, size=100).reshape(-1, 1)\n",
    "print(data.mean())\n",
    "\n",
    "minmax_scaler = MinMaxScaler(feature_range=(5,6))\n",
    "data_scaled = minmax_scaler.fit_transform(data)\n",
    "print(data_scaled.mean())\n",
    "\n",
    "data_orig = minmax_scaler.inverse_transform(data_scaled)\n",
    "print(data_orig.mean())"
   ]
  },
  {
   "cell_type": "code",
   "execution_count": 153,
   "metadata": {},
   "outputs": [
    {
     "name": "stdout",
     "output_type": "stream",
     "text": [
      "[[0.25       0.75      ]\n",
      " [0.33333333 0.66666667]]\n",
      "[[0.33333333 0.42857143]\n",
      " [0.66666667 0.57142857]]\n"
     ]
    }
   ],
   "source": [
    "# L1 Normalization\n",
    "from sklearn.preprocessing import normalize\n",
    "X = [[1,3],[2,4]]\n",
    "print(normalize(X, norm=\"l1\"))\n",
    "print(normalize(X, norm=\"l1\", axis=0))"
   ]
  },
  {
   "cell_type": "code",
   "execution_count": 154,
   "metadata": {},
   "outputs": [
    {
     "name": "stdout",
     "output_type": "stream",
     "text": [
      "[[0.31622777 0.9486833 ]\n",
      " [0.4472136  0.89442719]]\n"
     ]
    }
   ],
   "source": [
    "# L2 Normalization\n",
    "from sklearn.preprocessing import normalize\n",
    "X = [[1, 3], [2, 4]]\n",
    "print(normalize(X, norm=\"l2\"))"
   ]
  },
  {
   "cell_type": "code",
   "execution_count": 155,
   "metadata": {},
   "outputs": [
    {
     "name": "stdout",
     "output_type": "stream",
     "text": [
      "[1 2 6]\n",
      "[0 0 1 2]\n",
      "[1 1 2 6]\n"
     ]
    }
   ],
   "source": [
    "# Label Encoder (Used for encoding target values)\n",
    "from sklearn.preprocessing import LabelEncoder\n",
    "le = LabelEncoder()\n",
    "le.fit([1, 6, 2, 2])\n",
    "print(le.classes_)\n",
    "print(le.transform([1, 1, 2, 6]))\n",
    "print(le.inverse_transform([0, 0, 1, 2]))\n"
   ]
  },
  {
   "cell_type": "code",
   "execution_count": 156,
   "metadata": {},
   "outputs": [
    {
     "name": "stdout",
     "output_type": "stream",
     "text": [
      "['delhi' 'paris' 'tokyo']\n",
      "[2 2 1]\n",
      "['tokyo' 'tokyo' 'paris']\n"
     ]
    }
   ],
   "source": [
    "le = LabelEncoder()\n",
    "le.fit([\"paris\", \"paris\", \"tokyo\", \"delhi\"])\n",
    "print(le.classes_)\n",
    "print(le.transform([\"tokyo\", \"tokyo\", \"paris\"]))\n",
    "print(le.inverse_transform([2, 2, 1]))"
   ]
  },
  {
   "cell_type": "code",
   "execution_count": 157,
   "metadata": {},
   "outputs": [
    {
     "name": "stdout",
     "output_type": "stream",
     "text": [
      "[array(['Female', 'Male'], dtype=object), array([1, 2, 3], dtype=object)]\n",
      "['gender_Female' 'gender_Male' 'group_1' 'group_2' 'group_3']\n",
      "[[0. 1. 1. 0. 0.]\n",
      " [1. 0. 0. 0. 1.]\n",
      " [1. 0. 0. 1. 0.]]\n",
      "[['Male' 1]\n",
      " ['Female' 3]\n",
      " ['Female' 2]]\n"
     ]
    }
   ],
   "source": [
    "# One Hot Encoder (Used for encoding input values)\n",
    "from sklearn.preprocessing import OneHotEncoder\n",
    "\n",
    "enc = OneHotEncoder(handle_unknown='ignore')\n",
    "X = [['Male', 1], ['Female', 3], ['Female', 2]]\n",
    "X_transformed = enc.fit_transform(X).toarray()\n",
    "print(enc.categories_)\n",
    "print(enc.get_feature_names([\"gender\",\"group\"]))\n",
    "print(X_transformed)\n",
    "print(enc.inverse_transform(X_transformed))"
   ]
  },
  {
   "cell_type": "markdown",
   "metadata": {},
   "source": [
    "### Dataset Loading"
   ]
  },
  {
   "cell_type": "code",
   "execution_count": 158,
   "metadata": {},
   "outputs": [],
   "source": [
    "from sklearn.datasets import load_iris\n",
    "iris_data = load_iris()"
   ]
  },
  {
   "cell_type": "code",
   "execution_count": 159,
   "metadata": {},
   "outputs": [
    {
     "data": {
      "text/plain": [
       "(array([[5.1, 3.5, 1.4, 0.2],\n",
       "        [4.9, 3. , 1.4, 0.2],\n",
       "        [4.7, 3.2, 1.3, 0.2],\n",
       "        [4.6, 3.1, 1.5, 0.2],\n",
       "        [5. , 3.6, 1.4, 0.2]]),\n",
       " array([0, 0, 0, 0, 0, 0, 0, 0, 0, 0, 0, 0, 0, 0, 0, 0, 0, 0, 0, 0, 0, 0,\n",
       "        0, 0, 0, 0, 0, 0, 0, 0, 0, 0, 0, 0, 0, 0, 0, 0, 0, 0, 0, 0, 0, 0,\n",
       "        0, 0, 0, 0, 0, 0, 1, 1, 1, 1, 1, 1, 1, 1, 1, 1, 1, 1, 1, 1, 1, 1,\n",
       "        1, 1, 1, 1, 1, 1, 1, 1, 1, 1, 1, 1, 1, 1, 1, 1, 1, 1, 1, 1, 1, 1,\n",
       "        1, 1, 1, 1, 1, 1, 1, 1, 1, 1, 1, 1, 2, 2, 2, 2, 2, 2, 2, 2, 2, 2,\n",
       "        2, 2, 2, 2, 2, 2, 2, 2, 2, 2, 2, 2, 2, 2, 2, 2, 2, 2, 2, 2, 2, 2,\n",
       "        2, 2, 2, 2, 2, 2, 2, 2, 2, 2, 2, 2, 2, 2, 2, 2, 2, 2]))"
      ]
     },
     "execution_count": 159,
     "metadata": {},
     "output_type": "execute_result"
    }
   ],
   "source": [
    "X = iris_data.data\n",
    "y = iris_data.target\n",
    "X[:5],y"
   ]
  },
  {
   "cell_type": "code",
   "execution_count": 160,
   "metadata": {},
   "outputs": [
    {
     "data": {
      "text/plain": [
       "['sepal length (cm)',\n",
       " 'sepal width (cm)',\n",
       " 'petal length (cm)',\n",
       " 'petal width (cm)']"
      ]
     },
     "execution_count": 160,
     "metadata": {},
     "output_type": "execute_result"
    }
   ],
   "source": [
    "iris_data.feature_names"
   ]
  },
  {
   "cell_type": "code",
   "execution_count": 161,
   "metadata": {},
   "outputs": [
    {
     "data": {
      "text/plain": [
       "array(['setosa', 'versicolor', 'virginica'], dtype='<U10')"
      ]
     },
     "execution_count": 161,
     "metadata": {},
     "output_type": "execute_result"
    }
   ],
   "source": [
    "iris_data.target_names"
   ]
  },
  {
   "cell_type": "code",
   "execution_count": 162,
   "metadata": {},
   "outputs": [
    {
     "data": {
      "text/plain": [
       "((150, 4), (150,))"
      ]
     },
     "execution_count": 162,
     "metadata": {},
     "output_type": "execute_result"
    }
   ],
   "source": [
    "X.shape, y.shape"
   ]
  },
  {
   "cell_type": "markdown",
   "metadata": {},
   "source": [
    "### Splitting the dataset"
   ]
  },
  {
   "cell_type": "code",
   "execution_count": 163,
   "metadata": {},
   "outputs": [
    {
     "data": {
      "text/plain": [
       "((105, 4), (105,), (45, 4), (45,))"
      ]
     },
     "execution_count": 163,
     "metadata": {},
     "output_type": "execute_result"
    }
   ],
   "source": [
    "from sklearn.model_selection import train_test_split\n",
    "X_train, X_test, y_train, y_test = train_test_split(X,y, test_size=0.3, random_state=1)\n",
    "\n",
    "X_train.shape, y_train.shape, X_test.shape, y_test.shape"
   ]
  },
  {
   "cell_type": "markdown",
   "metadata": {},
   "source": [
    "### Stochastic Gradient Descent"
   ]
  },
  {
   "cell_type": "code",
   "execution_count": 194,
   "metadata": {},
   "outputs": [
    {
     "data": {
      "text/plain": [
       "SGDClassifier(max_iter=100, penalty='elasticnet')"
      ]
     },
     "execution_count": 194,
     "metadata": {},
     "output_type": "execute_result"
    }
   ],
   "source": [
    "# Train\n",
    "from sklearn.linear_model import SGDClassifier\n",
    "mymodel = SGDClassifier(max_iter = 100, tol=1e-3, penalty=\"elasticnet\", loss=\"\")\n",
    "mymodel.fit(X_train, y_train)"
   ]
  },
  {
   "cell_type": "code",
   "execution_count": 195,
   "metadata": {},
   "outputs": [
    {
     "data": {
      "text/plain": [
       "0.9333333333333333"
      ]
     },
     "execution_count": 195,
     "metadata": {},
     "output_type": "execute_result"
    }
   ],
   "source": [
    "# Test\n",
    "from sklearn import metrics\n",
    "y_pred = mymodel.predict(X_test)\n",
    "metrics.accuracy_score(y_test, y_pred)"
   ]
  },
  {
   "cell_type": "code",
   "execution_count": 199,
   "metadata": {},
   "outputs": [
    {
     "data": {
      "text/plain": [
       "['setosa', 'virginica']"
      ]
     },
     "execution_count": 199,
     "metadata": {},
     "output_type": "execute_result"
    }
   ],
   "source": [
    "# Predict\n",
    "sample = [[5, 5, 3, 2], [2, 4, 3, 5]]\n",
    "preds = mymodel.predict(sample)\n",
    "predNames = [iris_data.target_names[p] for p in preds]\n",
    "predNames"
   ]
  },
  {
   "cell_type": "markdown",
   "metadata": {},
   "source": [
    "### KNN"
   ]
  },
  {
   "cell_type": "code",
   "execution_count": 164,
   "metadata": {},
   "outputs": [
    {
     "data": {
      "text/plain": [
       "KNeighborsClassifier(n_neighbors=3)"
      ]
     },
     "execution_count": 164,
     "metadata": {},
     "output_type": "execute_result"
    }
   ],
   "source": [
    "# Train\n",
    "from sklearn.neighbors import KNeighborsClassifier\n",
    "mymodel = KNeighborsClassifier(n_neighbors=3)\n",
    "mymodel.fit(X_train, y_train)"
   ]
  },
  {
   "cell_type": "code",
   "execution_count": 165,
   "metadata": {},
   "outputs": [
    {
     "data": {
      "text/plain": [
       "0.9777777777777777"
      ]
     },
     "execution_count": 165,
     "metadata": {},
     "output_type": "execute_result"
    }
   ],
   "source": [
    "# Test\n",
    "from sklearn import metrics\n",
    "y_pred = mymodel.predict(X_test)\n",
    "metrics.accuracy_score(y_test, y_pred)"
   ]
  },
  {
   "cell_type": "code",
   "execution_count": 176,
   "metadata": {},
   "outputs": [
    {
     "data": {
      "text/plain": [
       "['versicolor', 'versicolor']"
      ]
     },
     "execution_count": 176,
     "metadata": {},
     "output_type": "execute_result"
    }
   ],
   "source": [
    "# Predict\n",
    "sample = [[5,5,3,2], [2,4,3,5]]\n",
    "preds = mymodel.predict(sample)\n",
    "predNames = [iris_data.target_names[p] for p in preds]\n",
    "predNames"
   ]
  },
  {
   "cell_type": "markdown",
   "metadata": {},
   "source": [
    "### SVM"
   ]
  },
  {
   "cell_type": "code",
   "execution_count": 167,
   "metadata": {},
   "outputs": [
    {
     "data": {
      "text/plain": [
       "SVC(kernel='linear', shrinking=False)"
      ]
     },
     "execution_count": 167,
     "metadata": {},
     "output_type": "execute_result"
    }
   ],
   "source": [
    "# Train\n",
    "from sklearn.svm import SVC\n",
    "mymodel = SVC(kernel=\"linear\", gamma=\"scale\", shrinking=False)\n",
    "mymodel.fit(X_train, y_train)"
   ]
  },
  {
   "cell_type": "code",
   "execution_count": 168,
   "metadata": {},
   "outputs": [
    {
     "data": {
      "text/plain": [
       "1.0"
      ]
     },
     "execution_count": 168,
     "metadata": {},
     "output_type": "execute_result"
    }
   ],
   "source": [
    "# Test\n",
    "y_pred = mymodel.predict(X_test)\n",
    "metrics.accuracy_score(y_test, y_pred)"
   ]
  },
  {
   "cell_type": "code",
   "execution_count": 169,
   "metadata": {},
   "outputs": [
    {
     "name": "stdout",
     "output_type": "stream",
     "text": [
      "[[-3.64794487e-02  4.51944911e-01 -8.76446385e-01 -3.96729779e-01]\n",
      " [-7.04245024e-03  1.78871428e-01 -5.38455631e-01 -2.92196514e-01]\n",
      " [ 7.70155020e-01 -1.79883218e-03 -1.98125619e+00 -1.93084583e+00]]\n",
      "[ 3 10  9]\n",
      "[[5.1 3.3 1.7 0.5]\n",
      " [4.5 2.3 1.3 0.3]\n",
      " [4.8 3.4 1.9 0.2]]\n",
      "[ 44  57  63  12  25  40  59  69  84  87  89  91 102  11  17  22  23  27\n",
      "  42  74  98 100]\n",
      "[1.38305037 1.50712472 8.04103505]\n",
      "0\n"
     ]
    }
   ],
   "source": [
    "# Get value of attributes\n",
    "print(mymodel.coef_)\n",
    "print(mymodel.n_support_)\n",
    "print(mymodel.support_vectors_[:3])\n",
    "print(mymodel.support_)\n",
    "print(mymodel.intercept_)\n",
    "print(mymodel.fit_status_)"
   ]
  },
  {
   "cell_type": "code",
   "execution_count": 177,
   "metadata": {},
   "outputs": [
    {
     "data": {
      "text/plain": [
       "['versicolor', 'versicolor']"
      ]
     },
     "execution_count": 177,
     "metadata": {},
     "output_type": "execute_result"
    }
   ],
   "source": [
    "# Predict\n",
    "sample = [[5, 5, 3, 2], [2, 4, 3, 5]]\n",
    "preds = mymodel.predict(sample)\n",
    "predNames = [iris_data.target_names[p] for p in preds]\n",
    "predNames"
   ]
  },
  {
   "cell_type": "markdown",
   "metadata": {},
   "source": [
    "### DT"
   ]
  },
  {
   "cell_type": "code",
   "execution_count": 187,
   "metadata": {},
   "outputs": [
    {
     "data": {
      "text/plain": [
       "DecisionTreeClassifier()"
      ]
     },
     "execution_count": 187,
     "metadata": {},
     "output_type": "execute_result"
    }
   ],
   "source": [
    "# Train\n",
    "from sklearn import tree\n",
    "mymodel = tree.DecisionTreeClassifier()\n",
    "mymodel.fit(X_train, y_train)"
   ]
  },
  {
   "cell_type": "code",
   "execution_count": 172,
   "metadata": {},
   "outputs": [
    {
     "data": {
      "text/plain": [
       "0.9555555555555556"
      ]
     },
     "execution_count": 172,
     "metadata": {},
     "output_type": "execute_result"
    }
   ],
   "source": [
    "# Test\n",
    "y_pred = mymodel.predict(X_test)\n",
    "metrics.accuracy_score(y_test, y_pred)"
   ]
  },
  {
   "cell_type": "code",
   "execution_count": 188,
   "metadata": {},
   "outputs": [
    {
     "data": {
      "text/plain": [
       "['versicolor', 'versicolor']"
      ]
     },
     "execution_count": 188,
     "metadata": {},
     "output_type": "execute_result"
    }
   ],
   "source": [
    "# Predict\n",
    "sample = [[5, 5, 3, 2], [2, 4, 3, 5]]\n",
    "preds = mymodel.predict(sample)\n",
    "predNames = [iris_data.target_names[p] for p in preds]\n",
    "predNames"
   ]
  },
  {
   "cell_type": "code",
   "execution_count": 181,
   "metadata": {},
   "outputs": [
    {
     "data": {
      "text/plain": [
       "[[('setosa', 0.0), ('versicolor', 1.0), ('virginica', 0.0)],\n",
       " [('setosa', 0.0), ('versicolor', 1.0), ('virginica', 0.0)]]"
      ]
     },
     "execution_count": 181,
     "metadata": {},
     "output_type": "execute_result"
    }
   ],
   "source": [
    "pred_probs = mymodel.predict_proba(sample)\n",
    "pred_Names_with_probs = [[(iris_data.target_names[idx], prob) for (\n",
    "    idx, prob) in enumerate(parr)] for (parr) in pred_probs]\n",
    "pred_Names_with_probs"
   ]
  },
  {
   "cell_type": "markdown",
   "metadata": {},
   "source": [
    "### Naive Bayes"
   ]
  },
  {
   "cell_type": "code",
   "execution_count": 189,
   "metadata": {},
   "outputs": [
    {
     "data": {
      "text/plain": [
       "GaussianNB()"
      ]
     },
     "execution_count": 189,
     "metadata": {},
     "output_type": "execute_result"
    }
   ],
   "source": [
    "# Train\n",
    "from sklearn.naive_bayes import GaussianNB\n",
    "mymodel = GaussianNB()\n",
    "mymodel.fit(X_train, y_train)"
   ]
  },
  {
   "cell_type": "code",
   "execution_count": 190,
   "metadata": {},
   "outputs": [
    {
     "data": {
      "text/plain": [
       "0.9333333333333333"
      ]
     },
     "execution_count": 190,
     "metadata": {},
     "output_type": "execute_result"
    }
   ],
   "source": [
    "# Test\n",
    "y_pred = mymodel.predict(X_test)\n",
    "metrics.accuracy_score(y_test, y_pred)"
   ]
  },
  {
   "cell_type": "code",
   "execution_count": 191,
   "metadata": {},
   "outputs": [
    {
     "data": {
      "text/plain": [
       "['versicolor', 'virginica']"
      ]
     },
     "execution_count": 191,
     "metadata": {},
     "output_type": "execute_result"
    }
   ],
   "source": [
    "# Predict\n",
    "sample = [[5, 5, 3, 2], [2, 4, 3, 5]]\n",
    "preds = mymodel.predict(sample)\n",
    "predNames = [iris_data.target_names[p] for p in preds]\n",
    "predNames"
   ]
  },
  {
   "cell_type": "code",
   "execution_count": 193,
   "metadata": {},
   "outputs": [
    {
     "data": {
      "text/plain": [
       "[[('setosa', 1.6348389086819225e-66),\n",
       "  ('versicolor', 0.9614686844934832),\n",
       "  ('virginica', 0.038531315506520336)],\n",
       " [('setosa', 0.0), ('versicolor', 2.0011844651474803e-43), ('virginica', 1.0)]]"
      ]
     },
     "execution_count": 193,
     "metadata": {},
     "output_type": "execute_result"
    }
   ],
   "source": [
    "pred_probs = mymodel.predict_proba(sample)\n",
    "pred_Names_with_probs = [[(iris_data.target_names[idx], prob) for (\n",
    "    idx, prob) in enumerate(parr)] for (parr) in pred_probs]\n",
    "pred_Names_with_probs"
   ]
  },
  {
   "cell_type": "markdown",
   "metadata": {},
   "source": [
    "### K-means clustering"
   ]
  },
  {
   "cell_type": "code",
   "execution_count": 200,
   "metadata": {},
   "outputs": [],
   "source": [
    "import matplotlib.pyplot as plt\n",
    "import numpy as np\n",
    "from sklearn.cluster import KMeans\n",
    "from sklearn.datasets import load_digits"
   ]
  },
  {
   "cell_type": "code",
   "execution_count": 202,
   "metadata": {},
   "outputs": [
    {
     "data": {
      "text/plain": [
       "(1797, 64)"
      ]
     },
     "execution_count": 202,
     "metadata": {},
     "output_type": "execute_result"
    }
   ],
   "source": [
    "digits = load_digits()\n",
    "digits.data.shape"
   ]
  },
  {
   "cell_type": "code",
   "execution_count": 204,
   "metadata": {},
   "outputs": [
    {
     "data": {
      "text/plain": [
       "(10, 64)"
      ]
     },
     "execution_count": 204,
     "metadata": {},
     "output_type": "execute_result"
    }
   ],
   "source": [
    "mymodel = KMeans(n_clusters=10, random_state=0)\n",
    "mymodel.fit_predict(digits.data)\n",
    "mymodel.cluster_centers_.shape"
   ]
  },
  {
   "cell_type": "code",
   "execution_count": 207,
   "metadata": {},
   "outputs": [
    {
     "data": {
      "image/png": "[encoded data removed]",
      "text/plain": [
       "<Figure size 576x216 with 10 Axes>"
      ]
     },
     "metadata": {},
     "output_type": "display_data"
    }
   ],
   "source": [
    "fig, ax = plt.subplots(2,5, figsize=(8,3))\n",
    "centers = mymodel.cluster_centers_.reshape(10,8,8)\n",
    "for axis, center in zip(ax.flat, centers):\n",
    "  axis.set(xticks=[], yticks=[])\n",
    "  axis.imshow(center, interpolation='nearest', cmap=plt.cm.binary)"
   ]
  }
 ],
 "metadata": {
  "kernelspec": {
   "display_name": "Python 3.9.6 64-bit",
   "language": "python",
   "name": "python3"
  },
  "language_info": {
   "codemirror_mode": {
    "name": "ipython",
    "version": 3
   },
   "file_extension": ".py",
   "mimetype": "text/x-python",
   "name": "python",
   "nbconvert_exporter": "python",
   "pygments_lexer": "ipython3",
   "version": "3.9.6"
  },
  "orig_nbformat": 4,
  "vscode": {
   "interpreter": {
    "hash": "be071fa3bb3c5273d3ad3c0c72285287e0b9b1ce4765e69a809d308e6cdbe2b2"
   }
  }
 },
 "nbformat": 4,
 "nbformat_minor": 2
}
