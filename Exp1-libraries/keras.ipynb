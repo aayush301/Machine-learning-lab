{
 "cells": [
  {
   "cell_type": "markdown",
   "metadata": {},
   "source": [
    "### Sequential API"
   ]
  },
  {
   "cell_type": "code",
   "execution_count": 15,
   "metadata": {},
   "outputs": [],
   "source": [
    "import keras"
   ]
  },
  {
   "cell_type": "code",
   "execution_count": 16,
   "metadata": {},
   "outputs": [
    {
     "data": {
      "text/plain": [
       "[<keras.layers.core.dense.Dense at 0x1715194aeb0>,\n",
       " <keras.layers.core.dense.Dense at 0x1715194afa0>,\n",
       " <keras.layers.core.dense.Dense at 0x1715194a370>]"
      ]
     },
     "execution_count": 16,
     "metadata": {},
     "output_type": "execute_result"
    }
   ],
   "source": [
    "mymodel = keras.Sequential()\n",
    "# input layer\n",
    "mymodel.add(keras.layers.Dense(32, input_shape=(16,), kernel_initializer=\"he_uniform\", kernel_regularizer=None, kernel_constraint=\"MaxNorm\", activation=\"relu\"))\n",
    "\n",
    "# hidden layer\n",
    "mymodel.add(keras.layers.Dense(16, activation=\"relu\"))\n",
    "\n",
    "# output layer\n",
    "mymodel.add(keras.layers.Dense(8))\n",
    "\n",
    "mymodel.layers"
   ]
  },
  {
   "cell_type": "code",
   "execution_count": 17,
   "metadata": {},
   "outputs": [
    {
     "name": "stdout",
     "output_type": "stream",
     "text": [
      "[<KerasTensor: shape=(None, 16) dtype=float32 (created by layer 'dense_10_input')>]\n",
      "[<KerasTensor: shape=(None, 8) dtype=float32 (created by layer 'dense_12')>]\n"
     ]
    }
   ],
   "source": [
    "print(mymodel.inputs)\n",
    "print(mymodel.outputs)\n"
   ]
  },
  {
   "cell_type": "code",
   "execution_count": 18,
   "metadata": {},
   "outputs": [
    {
     "name": "stdout",
     "output_type": "stream",
     "text": [
      "Model: \"sequential_5\"\n",
      "_________________________________________________________________\n",
      " Layer (type)                Output Shape              Param #   \n",
      "=================================================================\n",
      " dense_10 (Dense)            (None, 32)                544       \n",
      "                                                                 \n",
      " dense_11 (Dense)            (None, 16)                528       \n",
      "                                                                 \n",
      " dense_12 (Dense)            (None, 8)                 136       \n",
      "                                                                 \n",
      "=================================================================\n",
      "Total params: 1,208\n",
      "Trainable params: 1,208\n",
      "Non-trainable params: 0\n",
      "_________________________________________________________________\n"
     ]
    }
   ],
   "source": [
    "mymodel.summary()"
   ]
  },
  {
   "cell_type": "markdown",
   "metadata": {},
   "source": [
    "### Functional API"
   ]
  },
  {
   "cell_type": "code",
   "execution_count": 19,
   "metadata": {},
   "outputs": [
    {
     "name": "stdout",
     "output_type": "stream",
     "text": [
      "Model: \"model_1\"\n",
      "_________________________________________________________________\n",
      " Layer (type)                Output Shape              Param #   \n",
      "=================================================================\n",
      " input_2 (InputLayer)        [(None, 2, 3)]            0         \n",
      "                                                                 \n",
      " dense_13 (Dense)            (None, 2, 2)              8         \n",
      "                                                                 \n",
      "=================================================================\n",
      "Total params: 8\n",
      "Trainable params: 8\n",
      "Non-trainable params: 0\n",
      "_________________________________________________________________\n"
     ]
    }
   ],
   "source": [
    "data = keras.layers.Input(shape=(2, 3))\n",
    "layer = keras.layers.Dense(2)(data)\n",
    "mymodel = keras.models.Model(inputs=data,outputs = layer)\n",
    "mymodel.summary()"
   ]
  },
  {
   "cell_type": "markdown",
   "metadata": {},
   "source": [
    "### ANN"
   ]
  },
  {
   "cell_type": "code",
   "execution_count": 22,
   "metadata": {},
   "outputs": [],
   "source": [
    "from keras.datasets import mnist\n",
    "(X_train, y_train), (X_test, y_test) =  mnist.load_data()"
   ]
  },
  {
   "cell_type": "code",
   "execution_count": 23,
   "metadata": {},
   "outputs": [
    {
     "data": {
      "text/plain": [
       "((60000, 28, 28), (60000,), (10000, 28, 28), (10000,))"
      ]
     },
     "execution_count": 23,
     "metadata": {},
     "output_type": "execute_result"
    }
   ],
   "source": [
    "X_train.shape, y_train.shape, X_test.shape, y_test.shape"
   ]
  },
  {
   "cell_type": "code",
   "execution_count": 24,
   "metadata": {},
   "outputs": [
    {
     "data": {
      "text/plain": [
       "((60000, 784), (10000, 784))"
      ]
     },
     "execution_count": 24,
     "metadata": {},
     "output_type": "execute_result"
    }
   ],
   "source": [
    "X_train = X_train.reshape(60000, -1)\n",
    "X_test = X_test.reshape(10000, -1)\n",
    "X_train.shape, X_test.shape"
   ]
  },
  {
   "cell_type": "code",
   "execution_count": 28,
   "metadata": {},
   "outputs": [],
   "source": [
    "from keras.utils import all_utils\n",
    "X_train = X_train.astype(\"float32\")\n",
    "X_test = X_test.astype(\"float32\")\n",
    "X_train /= 255\n",
    "X_test /= 255\n",
    "y_train = all_utils.to_categorical(y_train, 10)\n",
    "y_test = all_utils.to_categorical(y_test, 10)"
   ]
  },
  {
   "cell_type": "code",
   "execution_count": 29,
   "metadata": {},
   "outputs": [
    {
     "data": {
      "text/plain": [
       "((60000, 784), (60000, 10), (10000, 784), (10000, 10))"
      ]
     },
     "execution_count": 29,
     "metadata": {},
     "output_type": "execute_result"
    }
   ],
   "source": [
    "X_train.shape, y_train.shape, X_test.shape, y_test.shape"
   ]
  },
  {
   "cell_type": "code",
   "execution_count": 36,
   "metadata": {},
   "outputs": [],
   "source": [
    "mymodel = keras.models.Sequential()\n",
    "mymodel.add(keras.layers.Dense(512, activation=\"relu\", input_shape=(784,)))\n",
    "mymodel.add(keras.layers.Dropout(0.2))\n",
    "mymodel.add(keras.layers.Dense(512, activation=\"relu\"))\n",
    "mymodel.add(keras.layers.Dropout(0.2))\n",
    "mymodel.add(keras.layers.Dense(10, activation=\"softmax\"))\n",
    "mymodel.compile(loss=\"categorical_crossentropy\", optimizer=keras.optimizers.rmsprop_v2.RMSProp(), metrics=[\"accuracy\"])"
   ]
  },
  {
   "cell_type": "code",
   "execution_count": 39,
   "metadata": {},
   "outputs": [
    {
     "name": "stdout",
     "output_type": "stream",
     "text": [
      "Epoch 1/5\n",
      "469/469 [==============================] - 9s 18ms/step - loss: 2.3014 - accuracy: 0.1124 - val_loss: 2.2980 - val_accuracy: 0.1135\n",
      "Epoch 2/5\n",
      "469/469 [==============================] - 9s 19ms/step - loss: 2.3014 - accuracy: 0.1124 - val_loss: 2.2980 - val_accuracy: 0.1135\n",
      "Epoch 3/5\n",
      "469/469 [==============================] - 9s 19ms/step - loss: 2.3013 - accuracy: 0.1124 - val_loss: 2.2981 - val_accuracy: 0.1135\n",
      "Epoch 4/5\n",
      "469/469 [==============================] - 9s 19ms/step - loss: 2.3013 - accuracy: 0.1124 - val_loss: 2.2982 - val_accuracy: 0.1135\n",
      "Epoch 5/5\n",
      "469/469 [==============================] - 8s 18ms/step - loss: 2.3013 - accuracy: 0.1124 - val_loss: 2.2981 - val_accuracy: 0.1135\n"
     ]
    },
    {
     "data": {
      "text/plain": [
       "<keras.callbacks.History at 0x17153e87430>"
      ]
     },
     "execution_count": 39,
     "metadata": {},
     "output_type": "execute_result"
    }
   ],
   "source": [
    "mymodel.fit(X_train, y_train, batch_size=128, epochs=5, verbose=1, validation_data=(X_test, y_test))"
   ]
  }
 ],
 "metadata": {
  "kernelspec": {
   "display_name": "Python 3.9.6 64-bit",
   "language": "python",
   "name": "python3"
  },
  "language_info": {
   "codemirror_mode": {
    "name": "ipython",
    "version": 3
   },
   "file_extension": ".py",
   "mimetype": "text/x-python",
   "name": "python",
   "nbconvert_exporter": "python",
   "pygments_lexer": "ipython3",
   "version": "3.9.6"
  },
  "orig_nbformat": 4,
  "vscode": {
   "interpreter": {
    "hash": "be071fa3bb3c5273d3ad3c0c72285287e0b9b1ce4765e69a809d308e6cdbe2b2"
   }
  }
 },
 "nbformat": 4,
 "nbformat_minor": 2
}
